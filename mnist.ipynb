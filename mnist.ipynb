{
 "cells": [
  {
   "cell_type": "markdown",
   "metadata": {},
   "source": [
    "# MNIST tutorial\n",
    "https://pytorch.org/tutorials/recipes/recipes/defining_a_neural_network.html\n",
    "\n",
    "https://pytorch.org/tutorials/beginner/blitz/cifar10_tutorial.html\n",
    "\n",
    "\n",
    "let's try learning the mnist dataset"
   ]
  },
  {
   "cell_type": "code",
   "execution_count": 64,
   "metadata": {},
   "outputs": [],
   "source": [
    "import torch\n",
    "import torch.nn as nn\n",
    "import torch.nn.functional as F\n",
    "\n",
    "from torchvision import datasets, transforms\n",
    "import torch.optim as optim\n",
    "import numpy as np\n",
    "\n",
    "import matplotlib.pyplot as plt"
   ]
  },
  {
   "cell_type": "code",
   "execution_count": 65,
   "metadata": {},
   "outputs": [
    {
     "name": "stdout",
     "output_type": "stream",
     "text": [
      "input shape: torch.Size([1, 1, 28, 28])\n",
      "shape after convolution: torch.Size([1, 5, 25, 25])\n",
      "number of elements in tensor: 784\n",
      "number of zero elements at beginning: 0\n",
      "number of zero elements after dropout: 648\n",
      "ratio of zero elements after dropout: 0.8265306353569031\n"
     ]
    }
   ],
   "source": [
    "sample_input = torch.randn(1, 1, 28, 28)\n",
    "print(f\"input shape: {sample_input.shape}\")\n",
    "\n",
    "sample_conv2d = nn.Conv2d(1, 5, 4)(sample_input)\n",
    "print(f\"shape after convolution: {sample_conv2d.shape}\")\n",
    "\n",
    "sample_dropout = nn.Dropout(0.8)(sample_input)\n",
    "num_elements_all = torch.numel(sample_input)\n",
    "print(f\"number of elements in tensor: {num_elements_all}\")\n",
    "print(f\"number of zero elements at beginning: {torch.sum(sample_input == 0)}\")\n",
    "num_zeros_afterdropout = torch.sum(sample_dropout == 0)\n",
    "print(f\"number of zero elements after dropout: {num_zeros_afterdropout}\")\n",
    "print(f\"ratio of zero elements after dropout: {num_zeros_afterdropout/num_elements_all}\")"
   ]
  },
  {
   "cell_type": "markdown",
   "metadata": {},
   "source": [
    "try changing the network structure and see if it can still learn\n",
    "\n",
    "the structure below is way overkill, a one-layer network can still learn fairly well"
   ]
  },
  {
   "cell_type": "code",
   "execution_count": 99,
   "metadata": {},
   "outputs": [],
   "source": [
    "# define network structure\n",
    "class Net(nn.Module):\n",
    "    def __init__(self):\n",
    "        super(Net, self).__init__()\n",
    "        # first 2D convolutional layer taking 1 input channel\n",
    "        # outputting 32 convolutional features, with kernel size 3\n",
    "        # Conv2d(in_channels, out_channels, kernel_size, stride)\n",
    "        # output height and width are determined automatically\n",
    "        self.conv1 = nn.Conv2d(1, 32, 3, 1)\n",
    "        # second 2D convolutional layer taking 32 input channels\n",
    "        # outputting 64 convolutional features, with kernel size 3\n",
    "        self.conv2 = nn.Conv2d(32, 64, 3, 1)\n",
    "\n",
    "        # During training, randomly zeroes some of the elements of the input tensor with probability p using samples from a Bernoulli distribution. \n",
    "        # Each channel will be zeroed out independently on every forward call.\n",
    "        # This has proven to be an effective technique for regularization and preventing the co-adaptation of neurons.\n",
    "        self.dropout1 = nn.Dropout(0.25)\n",
    "        self.dropout2 = nn.Dropout(0.5)\n",
    "\n",
    "        # first fc layer\n",
    "        self.fc1 = nn.Linear(9216, 128)\n",
    "        # second fc layer\n",
    "        self.fc2 = nn.Linear(128, 10)\n",
    "    \n",
    "    def forward(self, x):\n",
    "        x = self.conv1(x)\n",
    "        x = F.relu(x)\n",
    "        x = self.conv2(x)\n",
    "        x = F.relu(x)\n",
    "\n",
    "        # run max pooling\n",
    "        x = F.max_pool2d(x, 2)\n",
    "        # pass data through dropout layer\n",
    "        x = self.dropout1(x)\n",
    "        # flatten x with start_dim=1\n",
    "        x = torch.flatten(x, 1)\n",
    "\n",
    "        # fc layers\n",
    "        x = self.fc1(x)\n",
    "        x = F.relu(x)\n",
    "        x = self.dropout2(x)\n",
    "        x = self.fc2(x)\n",
    "\n",
    "        # apply softmax\n",
    "        output = F.log_softmax(x, dim=1)\n",
    "        return output"
   ]
  },
  {
   "cell_type": "code",
   "execution_count": 93,
   "metadata": {},
   "outputs": [
    {
     "name": "stdout",
     "output_type": "stream",
     "text": [
      "Net(\n",
      "  (conv1): Conv2d(1, 32, kernel_size=(3, 3), stride=(1, 1))\n",
      "  (conv2): Conv2d(32, 64, kernel_size=(3, 3), stride=(1, 1))\n",
      "  (dropout1): Dropout(p=0.25, inplace=False)\n",
      "  (dropout2): Dropout(p=0.5, inplace=False)\n",
      "  (fc1): Linear(in_features=9216, out_features=128, bias=True)\n",
      "  (fc2): Linear(in_features=128, out_features=10, bias=True)\n",
      ")\n"
     ]
    },
    {
     "data": {
      "image/png": "[encoded data removed]",
      "text/plain": [
       "<Figure size 432x288 with 1 Axes>"
      ]
     },
     "metadata": {
      "needs_background": "light"
     },
     "output_type": "display_data"
    },
    {
     "name": "stdout",
     "output_type": "stream",
     "text": [
      "tensor([[-2.2999, -2.2029, -2.6407, -2.4541, -2.2039, -2.3288, -2.2663, -2.3806,\n",
      "         -2.1603, -2.1827]], grad_fn=<LogSoftmaxBackward0>)\n"
     ]
    }
   ],
   "source": [
    "my_nn = Net()\n",
    "print(my_nn)\n",
    "\n",
    "# pass random data through network\n",
    "random_data = torch.randn((1, 1, 28, 28))\n",
    "plt.imshow(random_data[0, 0, :, :], cmap='gray')\n",
    "plt.show()\n",
    "result = my_nn(random_data)\n",
    "print(result)"
   ]
  },
  {
   "cell_type": "code",
   "execution_count": 94,
   "metadata": {},
   "outputs": [],
   "source": [
    "# load MNIST dataset\n",
    "transform = transforms.Compose([transforms.ToTensor(), transforms.Normalize((0.5,), (0.5,))])\n",
    "\n",
    "trainset = datasets.MNIST('./', download=True, train=True, transform=transform)\n",
    "trainloader = torch.utils.data.DataLoader(trainset, batch_size=64, shuffle=True)\n",
    "\n",
    "testset = datasets.MNIST('./', download=True, train=False, transform=transform)\n",
    "testloader = torch.utils.data.DataLoader(testset, batch_size=64, shuffle=False)\n",
    "\n",
    "classes = tuple(np.linspace(0, 9, 10, dtype=np.uint8))"
   ]
  },
  {
   "cell_type": "code",
   "execution_count": 95,
   "metadata": {},
   "outputs": [
    {
     "name": "stdout",
     "output_type": "stream",
     "text": [
      "there are 64 images in the batch, showing the first 3...\n"
     ]
    },
    {
     "data": {
      "image/png": "[encoded data removed]",
      "text/plain": [
       "<Figure size 432x288 with 1 Axes>"
      ]
     },
     "metadata": {
      "needs_background": "light"
     },
     "output_type": "display_data"
    },
    {
     "data": {
      "image/png": "[encoded data removed]",
      "text/plain": [
       "<Figure size 432x288 with 1 Axes>"
      ]
     },
     "metadata": {
      "needs_background": "light"
     },
     "output_type": "display_data"
    },
    {
     "data": {
      "image/png": "[encoded data removed]",
      "text/plain": [
       "<Figure size 432x288 with 1 Axes>"
      ]
     },
     "metadata": {
      "needs_background": "light"
     },
     "output_type": "display_data"
    }
   ],
   "source": [
    "# visualize data\n",
    "dataiter = iter(trainloader)\n",
    "# get random training image\n",
    "images, labels = dataiter.next()\n",
    "print(f\"there are {len(images)} images in the batch, showing the first 3...\")\n",
    "for i in range(3):\n",
    "    # plot image\n",
    "    plt.imshow(images[i][0], cmap='gray')\n",
    "    # print label\n",
    "    plt.title(classes[labels[i]])\n",
    "    plt.show()"
   ]
  },
  {
   "cell_type": "code",
   "execution_count": 96,
   "metadata": {},
   "outputs": [],
   "source": [
    "criterion = nn.CrossEntropyLoss()\n",
    "optimizer = optim.Adam(my_nn.parameters(), lr=0.001)"
   ]
  },
  {
   "cell_type": "code",
   "execution_count": 97,
   "metadata": {},
   "outputs": [
    {
     "name": "stdout",
     "output_type": "stream",
     "text": [
      "there are 938 batches in the trainloader\n",
      "Epoch: 0 - Loss: 0.2143299311204855\n"
     ]
    }
   ],
   "source": [
    "epochs = 1\n",
    "loss_list = []\n",
    "for epoch in range(epochs):\n",
    "    running_loss = 0.\n",
    "    # length of trainloader\n",
    "    print(f\"there are {len(trainloader)} batches in the trainloader\")\n",
    "    for i, data in enumerate(trainloader, 0):\n",
    "        inputs, labels = data\n",
    "        # reset gradients\n",
    "        optimizer.zero_grad()\n",
    "        # forward pass\n",
    "        outputs = my_nn(inputs)\n",
    "        # calculate loss\n",
    "        loss = criterion(outputs, labels)\n",
    "        # backpropagate\n",
    "        loss.backward()\n",
    "        # update weights\n",
    "        optimizer.step()\n",
    "\n",
    "        running_loss += loss.item()\n",
    "        loss_list.append(loss.item())\n",
    "    print('Epoch: {} - Loss: {}'.format(epoch, running_loss/len(trainloader)))\n",
    "    torch.save(my_nn.state_dict(), f'./model_epoch{epoch}.pt')\n",
    "    running_loss = 0."
   ]
  },
  {
   "cell_type": "code",
   "execution_count": 98,
   "metadata": {},
   "outputs": [
    {
     "data": {
      "image/png": "[encoded data removed]",
      "text/plain": [
       "<Figure size 432x288 with 1 Axes>"
      ]
     },
     "metadata": {
      "needs_background": "light"
     },
     "output_type": "display_data"
    }
   ],
   "source": [
    "plt.plot(loss_list)\n",
    "plt.title('Loss for each batch')\n",
    "plt.show()"
   ]
  },
  {
   "cell_type": "code",
   "execution_count": 87,
   "metadata": {},
   "outputs": [
    {
     "data": {
      "image/png": "[encoded data removed]",
      "text/plain": [
       "<Figure size 432x288 with 1 Axes>"
      ]
     },
     "metadata": {
      "needs_background": "light"
     },
     "output_type": "display_data"
    },
    {
     "name": "stdout",
     "output_type": "stream",
     "text": [
      "actual: 7\n",
      "predicted: 7\n"
     ]
    },
    {
     "data": {
      "image/png": "[encoded data removed]",
      "text/plain": [
       "<Figure size 432x288 with 1 Axes>"
      ]
     },
     "metadata": {
      "needs_background": "light"
     },
     "output_type": "display_data"
    },
    {
     "name": "stdout",
     "output_type": "stream",
     "text": [
      "actual: 2\n",
      "predicted: 2\n"
     ]
    },
    {
     "data": {
      "image/png": "[encoded data removed]",
      "text/plain": [
       "<Figure size 432x288 with 1 Axes>"
      ]
     },
     "metadata": {
      "needs_background": "light"
     },
     "output_type": "display_data"
    },
    {
     "name": "stdout",
     "output_type": "stream",
     "text": [
      "actual: 1\n",
      "predicted: 1\n"
     ]
    }
   ],
   "source": [
    "# test it on some test images\n",
    "dataiter = iter(testloader)\n",
    "images, labels = dataiter.next()\n",
    "prediction = my_nn(images)\n",
    "for i in range(3):\n",
    "    image, label = images[i], labels[i]\n",
    "    plt.imshow(image[0], cmap='gray')\n",
    "    plt.show()\n",
    "    print(f\"actual: {label.item()}\")\n",
    "    print(f\"predicted: {prediction[i].argmax().item()}\")"
   ]
  }
 ],
 "metadata": {
  "interpreter": {
   "hash": "916dbcbb3f70747c44a77c7bcd40155683ae19c65e1c03b4aa3499c5328201f1"
  },
  "kernelspec": {
   "display_name": "Python 3.10.4 64-bit",
   "language": "python",
   "name": "python3"
  },
  "language_info": {
   "codemirror_mode": {
    "name": "ipython",
    "version": 3
   },
   "file_extension": ".py",
   "mimetype": "text/x-python",
   "name": "python",
   "nbconvert_exporter": "python",
   "pygments_lexer": "ipython3",
   "version": "3.10.4"
  },
  "orig_nbformat": 4
 },
 "nbformat": 4,
 "nbformat_minor": 2
}

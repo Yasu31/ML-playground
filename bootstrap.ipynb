{
 "cells": [
  {
   "cell_type": "markdown",
   "metadata": {},
   "source": [
    "# bootstrapping\n",
    "from https://towardsdatascience.com/an-introduction-to-the-bootstrap-method-58bcb51b4d60\n",
    "\n",
    "## standard error of sample mean\n",
    "verify that the standard error of the sample mean follows the equation:\n",
    "\n",
    "sigma(sample mean) = sigma(original distribution) / sqrt(sample size)\n"
   ]
  },
  {
   "cell_type": "code",
   "execution_count": 13,
   "metadata": {},
   "outputs": [
    {
     "name": "stdout",
     "output_type": "stream",
     "text": [
      "original distribution: mu: 0, sigma: 1.0\n"
     ]
    },
    {
     "data": {
      "image/png": "[encoded data removed]",
      "text/plain": [
       "<Figure size 432x288 with 1 Axes>"
      ]
     },
     "metadata": {
      "needs_background": "light"
     },
     "output_type": "display_data"
    }
   ],
   "source": [
    "import numpy as np\n",
    "import matplotlib.pyplot as plt\n",
    "from pyplot_tools import format_figure\n",
    "\n",
    "# define the normal distribution\n",
    "mu, sigma = 0, 1.\n",
    "print(f\"original distribution: mu: {mu}, sigma: {sigma}\")\n",
    "\n",
    "# sample number: 10, 20, 30, ..., 1000\n",
    "sample_number_list = np.arange(10, 1000, 10)\n",
    "stdev_of_sample_mean_list = []\n",
    "\n",
    "for sample_number in sample_number_list:\n",
    "    # do 100 trials of taking sample_number of samples from the distribution\n",
    "    trials = 100\n",
    "    mean_list = []\n",
    "    for i in range(trials):\n",
    "        sample = np.random.normal(mu, sigma, sample_number)\n",
    "        mean_list.append(np.mean(sample))\n",
    "    stdev_of_sample_mean_list.append(np.std(mean_list))\n",
    "\n",
    "\n",
    "plt.plot(sample_number_list, stdev_of_sample_mean_list, 'k', label=\"measured\")\n",
    "plt.plot(sample_number_list, sigma / np.sqrt(sample_number_list), 'r--', label=\"theoretical\")\n",
    "plt.xlabel(\"sample number\")\n",
    "plt.ylabel(\"standard error of sample mean\")\n",
    "plt.legend()\n",
    "format_figure(plt.gca())\n",
    "plt.show()"
   ]
  },
  {
   "cell_type": "markdown",
   "metadata": {},
   "source": [
    "i.e. more samples means more accurate estimates of the mean, though with diminishing returns. Kind of neat how well it fits the theoretical line!"
   ]
  },
  {
   "cell_type": "markdown",
   "metadata": {},
   "source": [
    "## bootstrapping\n",
    "guess the \"quality\" (standard error) of a statistic about sampled data"
   ]
  },
  {
   "cell_type": "code",
   "execution_count": 14,
   "metadata": {},
   "outputs": [
    {
     "data": {
      "text/plain": [
       "array([ 14, 333,  40, 116, 371, 383, 327,  66, 175, 277, 416,   2, 434,\n",
       "       472,  57, 182, 199, 215,  59, 134, 375, 330, 431, 315,  12, 113,\n",
       "       384, 285,   7, 396, 435, 375, 497,  52,  68, 325, 239,  19, 109,\n",
       "       297,  46, 295,  95, 138, 410, 384,  94, 425,  21,  46, 401, 408,\n",
       "       472,  54, 326, 165, 216, 370, 360, 119, 412,  88, 125, 172, 199,\n",
       "         2, 476, 421, 495, 494, 441, 295, 334,  12,  11, 456, 115, 415,\n",
       "       300, 450,  91,  76, 144, 273, 224, 460, 142, 455, 236, 220, 248,\n",
       "       288,  80,  88,  59,  94, 270, 263, 132, 145, 177, 415,  61,  69,\n",
       "       274, 286, 351,   2,  82,  74, 409,  52,  95, 316, 302, 329, 227,\n",
       "       234, 456, 230, 150, 365, 226,  23,  30,  59, 381, 380,  55, 162,\n",
       "       400, 177,  49, 480, 276, 224, 331,  58, 337, 471,  49, 445, 459,\n",
       "       477, 156, 374, 258, 376,  45,   0, 499, 177, 217, 174, 382, 396,\n",
       "        89, 460, 190, 249, 494, 498,  31, 257, 227, 116, 135, 470,  76,\n",
       "         4, 451, 242, 202,  45, 281, 180, 427,  97,  21, 326, 295,  74,\n",
       "       260, 245, 328, 197, 314, 432, 166, 334,  65,  46,  17, 246, 360,\n",
       "       105,  69, 136, 372, 472])"
      ]
     },
     "execution_count": 14,
     "metadata": {},
     "output_type": "execute_result"
    }
   ],
   "source": [
    "# from https://towardsdatascience.com/an-introduction-to-the-bootstrap-method-58bcb51b4d60\n",
    "# this is the population, which is supposed to not be measurable (only samples can be taken)\n",
    "pickups = np.random.randint(0, 500, size=200)\n",
    "pickups"
   ]
  },
  {
   "cell_type": "code",
   "execution_count": 15,
   "metadata": {},
   "outputs": [
    {
     "name": "stdout",
     "output_type": "stream",
     "text": [
      "population mean: 237.71, population stdev: 151.64832969736264\n"
     ]
    }
   ],
   "source": [
    "# calculate mean and stdev of the population (which are not supposed to be measurable)\n",
    "population_mean = np.mean(pickups)\n",
    "population_stdev = np.std(pickups)\n",
    "print(f\"population mean: {population_mean}, population stdev: {population_stdev}\")"
   ]
  },
  {
   "cell_type": "code",
   "execution_count": 16,
   "metadata": {},
   "outputs": [
    {
     "data": {
      "text/plain": [
       "array([450, 119, 326,  59, 351, 497, 113, 165,  74, 326, 374, 300, 175,\n",
       "        49, 497, 360,  30, 281, 460, 281, 273, 260,  97,  65, 351, 116,\n",
       "       314, 314,  76, 326, 434, 371,  74, 365, 415, 190, 297, 427, 415,\n",
       "       445, 135,  11, 234, 116, 337, 374,  30, 156, 150, 202,  49, 431,\n",
       "        69,  58, 182, 226, 401, 297,   4, 224])"
      ]
     },
     "execution_count": 16,
     "metadata": {},
     "output_type": "execute_result"
    }
   ],
   "source": [
    "# create a sample (this is what is supposed to be known)\n",
    "sample_size = 60\n",
    "sample = np.random.choice(pickups, size=sample_size)\n",
    "sample"
   ]
  },
  {
   "cell_type": "code",
   "execution_count": 17,
   "metadata": {},
   "outputs": [
    {
     "name": "stdout",
     "output_type": "stream",
     "text": [
      "sample mean: 243.3, sample stdev: 143.19686914640744\n"
     ]
    }
   ],
   "source": [
    "sample_mean = np.mean(sample)\n",
    "sample_stdev = np.std(sample)\n",
    "print(f\"sample mean: {sample_mean}, sample stdev: {sample_stdev}\")"
   ]
  },
  {
   "cell_type": "code",
   "execution_count": 18,
   "metadata": {},
   "outputs": [
    {
     "data": {
      "text/plain": [
       "18.486636314435955"
      ]
     },
     "execution_count": 18,
     "metadata": {},
     "output_type": "execute_result"
    }
   ],
   "source": [
    "# estimated standard error of sample mean\n",
    "sample_stdev / np.sqrt(sample_size)"
   ]
  },
  {
   "cell_type": "code",
   "execution_count": 19,
   "metadata": {},
   "outputs": [
    {
     "data": {
      "text/plain": [
       "19.577715179935236"
      ]
     },
     "execution_count": 19,
     "metadata": {},
     "output_type": "execute_result"
    }
   ],
   "source": [
    "# theoretical standard error of sample mean\n",
    "population_stdev / np.sqrt(sample_size)"
   ]
  },
  {
   "cell_type": "code",
   "execution_count": 20,
   "metadata": {},
   "outputs": [],
   "source": [
    "sample_bootstrapped = []\n",
    "for _ in range(100000):\n",
    "    bootsample = np.random.choice(sample, size=sample_size)\n",
    "    sample_bootstrapped.append(np.mean(bootsample))"
   ]
  },
  {
   "cell_type": "code",
   "execution_count": 21,
   "metadata": {},
   "outputs": [
    {
     "name": "stdout",
     "output_type": "stream",
     "text": [
      "simulated mean: 243.31611766666666, simulated stdev: 18.478932576908555\n"
     ]
    }
   ],
   "source": [
    "simulated_mean = np.mean(sample_bootstrapped)\n",
    "simulated_stdev = np.std(sample_bootstrapped)\n",
    "print(f\"simulated mean: {simulated_mean}, simulated stdev: {simulated_stdev}\")"
   ]
  },
  {
   "cell_type": "code",
   "execution_count": 22,
   "metadata": {},
   "outputs": [
    {
     "data": {
      "text/plain": [
       "(array([1.2000e+01, 2.3300e+02, 2.4910e+03, 1.1648e+04, 2.7023e+04,\n",
       "        3.2782e+04, 1.9363e+04, 5.5720e+03, 8.1300e+02, 6.3000e+01]),\n",
       " array([159.9       , 175.80666667, 191.71333333, 207.62      ,\n",
       "        223.52666667, 239.43333333, 255.34      , 271.24666667,\n",
       "        287.15333333, 303.06      , 318.96666667]),\n",
       " <BarContainer object of 10 artists>)"
      ]
     },
     "execution_count": 22,
     "metadata": {},
     "output_type": "execute_result"
    },
    {
     "data": {
      "image/png": "[encoded data removed]",
      "text/plain": [
       "<Figure size 432x288 with 1 Axes>"
      ]
     },
     "metadata": {
      "needs_background": "light"
     },
     "output_type": "display_data"
    }
   ],
   "source": [
    "plt.hist(sample_bootstrapped)"
   ]
  },
  {
   "cell_type": "code",
   "execution_count": 23,
   "metadata": {},
   "outputs": [
    {
     "name": "stdout",
     "output_type": "stream",
     "text": [
      "population mean\t237.71\n",
      "sample mean\t243.3\n",
      "bootstrap mean\t243.31611766666666\n",
      "\n",
      "population stdev\t19.577715179935236\n",
      "sample stdev\t18.486636314435955\n",
      "bootstrap stdev\t18.478932576908555\n"
     ]
    }
   ],
   "source": [
    "print(f\"population mean\\t{population_mean}\\nsample mean\\t{sample_mean}\\nbootstrap mean\\t{simulated_mean}\\n\")\n",
    "print(f\"population stdev\\t{population_stdev / np.sqrt(sample_size)}\\nsample stdev\\t{sample_stdev / np.sqrt(sample_size)}\\nbootstrap stdev\\t{simulated_stdev}\")"
   ]
  },
  {
   "cell_type": "markdown",
   "metadata": {},
   "source": [
    "boostrapping gets us much much closer to the population values!!\n",
    "\n",
    "\n",
    "追記: I later realized I had been bootstrapping from the original distribution, which would of course make the estimate for the mean much better. After changing it to bootstrapping from the sampled distribution, it's not really much better than the statistics of the original sample..."
   ]
  },
  {
   "cell_type": "markdown",
   "metadata": {},
   "source": [
    "## EDF, PDF, CDF\n",
    "Empirical Distribution Function: discrete distribution that is created from sampled data\n",
    "\n",
    "Cumulative Distribution Function $F$: CDF of a distribution function of a random variable X is the probability that a random variable X is less than or equal to a given value.\n",
    "\n",
    "Then, the population mean (or expected value) of $X$ is a statistical functional...\n",
    "$$\n",
    "E(X) = \\int x dF(x) = \\int x p(x) dx\n",
    "$$\n",
    "\n",
    "where $p$ is the PDF.\n",
    "\n",
    "The towardsdatascience article goes on after this to talk about plug-in principle and whatnot, but it's beyond me for now..."
   ]
  }
 ],
 "metadata": {
  "interpreter": {
   "hash": "916dbcbb3f70747c44a77c7bcd40155683ae19c65e1c03b4aa3499c5328201f1"
  },
  "kernelspec": {
   "display_name": "Python 3.10.4 64-bit",
   "language": "python",
   "name": "python3"
  },
  "language_info": {
   "codemirror_mode": {
    "name": "ipython",
    "version": 3
   },
   "file_extension": ".py",
   "mimetype": "text/x-python",
   "name": "python",
   "nbconvert_exporter": "python",
   "pygments_lexer": "ipython3",
   "version": "3.10.4"
  },
  "orig_nbformat": 4
 },
 "nbformat": 4,
 "nbformat_minor": 2
}

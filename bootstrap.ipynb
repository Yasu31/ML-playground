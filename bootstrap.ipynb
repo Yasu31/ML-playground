{
 "cells": [
  {
   "cell_type": "markdown",
   "metadata": {},
   "source": [
    "# bootstrapping\n",
    "from https://towardsdatascience.com/an-introduction-to-the-bootstrap-method-58bcb51b4d60\n",
    "\n",
    "## standard error of sample mean\n",
    "verify that the standard error of the sample mean follows the equation:\n",
    "\n",
    "sigma(sample mean) = sigma(original distribution) / sqrt(sample size)\n"
   ]
  },
  {
   "cell_type": "code",
   "execution_count": 15,
   "metadata": {},
   "outputs": [
    {
     "name": "stdout",
     "output_type": "stream",
     "text": [
      "original distribution: mu: 0, sigma: 1.0\n"
     ]
    },
    {
     "data": {
      "image/png": "[encoded data removed]",
      "text/plain": [
       "<Figure size 432x288 with 1 Axes>"
      ]
     },
     "metadata": {
      "needs_background": "light"
     },
     "output_type": "display_data"
    }
   ],
   "source": [
    "import numpy as np\n",
    "import matplotlib.pyplot as plt\n",
    "from pyplot_tools import format_figure\n",
    "\n",
    "# define the normal distribution\n",
    "mu, sigma = 0, 1.\n",
    "print(f\"original distribution: mu: {mu}, sigma: {sigma}\")\n",
    "\n",
    "# sample number: 10, 20, 30, ..., 1000\n",
    "sample_number_list = np.arange(10, 1000, 10)\n",
    "stdev_of_sample_mean_list = []\n",
    "\n",
    "for sample_number in sample_number_list:\n",
    "    # do 100 trials of taking sample_number of samples from the distribution\n",
    "    trials = 100\n",
    "    mean_list = []\n",
    "    for i in range(trials):\n",
    "        sample = np.random.normal(mu, sigma, sample_number)\n",
    "        mean_list.append(np.mean(sample))\n",
    "    stdev_of_sample_mean_list.append(np.std(mean_list))\n",
    "\n",
    "\n",
    "plt.plot(sample_number_list, stdev_of_sample_mean_list, 'k', label=\"measured\")\n",
    "plt.plot(sample_number_list, sigma / np.sqrt(sample_number_list), 'r--', label=\"theoretical\")\n",
    "plt.xlabel(\"sample number\")\n",
    "plt.ylabel(\"standard error of sample mean\")\n",
    "plt.legend()\n",
    "format_figure(plt.gca())\n",
    "plt.show()"
   ]
  },
  {
   "cell_type": "markdown",
   "metadata": {},
   "source": [
    "i.e. more samples means more accurate estimates of the mean, though with diminishing returns. Kind of neat how well it fits the theoretical line!"
   ]
  },
  {
   "cell_type": "markdown",
   "metadata": {},
   "source": [
    "## bootstrapping\n",
    "guess the \"quality\" (standard error) of a statistic about sampled data"
   ]
  },
  {
   "cell_type": "code",
   "execution_count": 20,
   "metadata": {},
   "outputs": [
    {
     "data": {
      "text/plain": [
       "array([475, 145, 462, 150, 486, 350, 110, 349, 396, 264, 311, 153, 126,\n",
       "        20, 425, 429, 142,  31, 390, 469, 461, 305, 441,  36, 175, 351,\n",
       "        64,   5, 279, 394, 162, 212, 499,  80, 392, 110, 425,  24, 296,\n",
       "        17, 159, 421, 120, 120, 380, 443,  69, 150, 407, 231, 187, 224,\n",
       "        58, 459, 263, 223, 418, 245, 145, 133,   2, 104, 225,  67, 491,\n",
       "       139, 348, 155, 248, 104,  89, 351, 305,  57, 120, 103, 429, 462,\n",
       "       365,  92, 307, 244, 494, 480, 378, 404, 145, 113,  85, 299, 440,\n",
       "       413, 292, 121, 458, 153, 424, 282, 408, 364])"
      ]
     },
     "execution_count": 20,
     "metadata": {},
     "output_type": "execute_result"
    }
   ],
   "source": [
    "# from https://towardsdatascience.com/an-introduction-to-the-bootstrap-method-58bcb51b4d60\n",
    "# this is the population, which is supposed to not be measurable (only samples can be taken)\n",
    "pickups = np.random.randint(0, 500, size=100)\n",
    "pickups"
   ]
  },
  {
   "cell_type": "code",
   "execution_count": 22,
   "metadata": {},
   "outputs": [
    {
     "name": "stdout",
     "output_type": "stream",
     "text": [
      "population mean: 258.26, population stdev: 149.84489447425295\n"
     ]
    }
   ],
   "source": [
    "# calculate mean and stdev of the population (which are not supposed to be measurable)\n",
    "population_mean = np.mean(pickups)\n",
    "population_stdev = np.std(pickups)\n",
    "print(f\"population mean: {population_mean}, population stdev: {population_stdev}\")"
   ]
  },
  {
   "cell_type": "code",
   "execution_count": 27,
   "metadata": {},
   "outputs": [
    {
     "data": {
      "text/plain": [
       "array([103, 282, 153,  17, 351, 299, 378, 245, 425, 120, 126, 311,  58,\n",
       "       133, 380, 469, 392, 390, 480, 133,  92, 462, 390, 429, 110, 264,\n",
       "       223,  17, 311,  58])"
      ]
     },
     "execution_count": 27,
     "metadata": {},
     "output_type": "execute_result"
    }
   ],
   "source": [
    "# create a sample (this is what is supposed to be known)\n",
    "sample_size = 30\n",
    "sample = np.random.choice(pickups, size=sample_size)\n",
    "sample"
   ]
  },
  {
   "cell_type": "code",
   "execution_count": 29,
   "metadata": {},
   "outputs": [
    {
     "name": "stdout",
     "output_type": "stream",
     "text": [
      "sample mean: 253.36666666666667, sample stdev: 146.09802264993945\n"
     ]
    }
   ],
   "source": [
    "sample_mean = np.mean(sample)\n",
    "sample_stdev = np.std(sample)\n",
    "print(f\"sample mean: {sample_mean}, sample stdev: {sample_stdev}\")"
   ]
  },
  {
   "cell_type": "code",
   "execution_count": 31,
   "metadata": {},
   "outputs": [
    {
     "data": {
      "text/plain": [
       "26.673727537424174"
      ]
     },
     "execution_count": 31,
     "metadata": {},
     "output_type": "execute_result"
    }
   ],
   "source": [
    "# estimated standard error of sample mean\n",
    "sample_stdev / np.sqrt(sample_size)"
   ]
  },
  {
   "cell_type": "code",
   "execution_count": 33,
   "metadata": {},
   "outputs": [
    {
     "data": {
      "text/plain": [
       "27.35780961017652"
      ]
     },
     "execution_count": 33,
     "metadata": {},
     "output_type": "execute_result"
    }
   ],
   "source": [
    "# theoretical standard error of sample mean\n",
    "population_stdev / np.sqrt(sample_size)"
   ]
  },
  {
   "cell_type": "code",
   "execution_count": 34,
   "metadata": {},
   "outputs": [],
   "source": [
    "sample_bootstrapped = []\n",
    "for _ in range(100000):\n",
    "    sample = np.random.choice(pickups, size=sample_size)\n",
    "    sample_bootstrapped.append(np.mean(sample))"
   ]
  },
  {
   "cell_type": "code",
   "execution_count": 36,
   "metadata": {},
   "outputs": [
    {
     "name": "stdout",
     "output_type": "stream",
     "text": [
      "simulated mean: 258.20292166666667, simulated stdev: 27.35909342242899\n"
     ]
    }
   ],
   "source": [
    "simulated_mean = np.mean(sample_bootstrapped)\n",
    "simulated_stdev = np.std(sample_bootstrapped)\n",
    "print(f\"simulated mean: {simulated_mean}, simulated stdev: {simulated_stdev}\")"
   ]
  },
  {
   "cell_type": "code",
   "execution_count": 37,
   "metadata": {},
   "outputs": [
    {
     "data": {
      "text/plain": [
       "(array([3.1000e+01, 6.0400e+02, 4.6370e+03, 1.6655e+04, 3.0839e+04,\n",
       "        2.9261e+04, 1.4077e+04, 3.4770e+03, 3.9400e+02, 2.5000e+01]),\n",
       " array([144.13333333, 167.33666667, 190.54      , 213.74333333,\n",
       "        236.94666667, 260.15      , 283.35333333, 306.55666667,\n",
       "        329.76      , 352.96333333, 376.16666667]),\n",
       " <BarContainer object of 10 artists>)"
      ]
     },
     "execution_count": 37,
     "metadata": {},
     "output_type": "execute_result"
    },
    {
     "data": {
      "image/png": "[encoded data removed]",
      "text/plain": [
       "<Figure size 432x288 with 1 Axes>"
      ]
     },
     "metadata": {
      "needs_background": "light"
     },
     "output_type": "display_data"
    }
   ],
   "source": [
    "plt.hist(sample_bootstrapped)"
   ]
  },
  {
   "cell_type": "code",
   "execution_count": 44,
   "metadata": {},
   "outputs": [
    {
     "name": "stdout",
     "output_type": "stream",
     "text": [
      "population mean\t258.26\n",
      "sample mean\t253.36666666666667\n",
      "bootstrap mean\t258.20292166666667\n",
      "\n",
      "population stdev\t27.35780961017652\n",
      "sample stdev\t26.673727537424174\n",
      "bootstrap stdev\t27.35909342242899\n"
     ]
    }
   ],
   "source": [
    "print(f\"population mean\\t{population_mean}\\nsample mean\\t{sample_mean}\\nbootstrap mean\\t{simulated_mean}\\n\")\n",
    "print(f\"population stdev\\t{population_stdev / np.sqrt(sample_size)}\\nsample stdev\\t{sample_stdev / np.sqrt(sample_size)}\\nbootstrap stdev\\t{simulated_stdev}\")"
   ]
  },
  {
   "cell_type": "markdown",
   "metadata": {},
   "source": [
    "boostrapping gets us much much closer to the population values!!"
   ]
  },
  {
   "cell_type": "markdown",
   "metadata": {},
   "source": [
    "## EDF, PDF, CDF\n",
    "Empirical Distribution Function: discrete distribution that is created from sampled data\n",
    "\n",
    "Cumulative Distribution Function $F$: CDF of a distribution function of a random variable X is the probability that a random variable X is less than or equal to a given value.\n",
    "\n",
    "Then, the population mean (or expected value) of $X$ is a statistical functional...\n",
    "$$\n",
    "E(X) = \\int x dF(x) = \\int x p(x) dx\n",
    "$$\n",
    "\n",
    "where $p$ is the PDF.\n",
    "\n",
    "The towardsdatascience article goes on after this to talk about plug-in principle and whatnot, but it's beyond me for now..."
   ]
  }
 ],
 "metadata": {
  "interpreter": {
   "hash": "c7649eaf890457e6b784eef0dc9d02c2c44319842bd8a61ae1c15ae0394ad568"
  },
  "kernelspec": {
   "display_name": "Python 3.9.7 ('base')",
   "language": "python",
   "name": "python3"
  },
  "language_info": {
   "codemirror_mode": {
    "name": "ipython",
    "version": 3
   },
   "file_extension": ".py",
   "mimetype": "text/x-python",
   "name": "python",
   "nbconvert_exporter": "python",
   "pygments_lexer": "ipython3",
   "version": "3.10.4"
  },
  "orig_nbformat": 4
 },
 "nbformat": 4,
 "nbformat_minor": 2
}
